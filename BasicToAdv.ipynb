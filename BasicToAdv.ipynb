{
 "cells": [
  {
   "cell_type": "code",
   "execution_count": null,
   "id": "afcb800e-1f21-4004-bbf7-8154bd47ca94",
   "metadata": {},
   "outputs": [],
   "source": [
    "Name: kedar nandakumar sutar\n",
    "python shorts notes"
   ]
  },
  {
   "cell_type": "code",
   "execution_count": null,
   "id": "1f9eebfb-9dcc-4ba4-bd0d-6b3af07c0ae6",
   "metadata": {},
   "outputs": [],
   "source": [
    "a = 34 # variable\n",
    "b = \"kedar\" # keys\n",
    "c = 3.45 # identifier\n"
   ]
  },
  {
   "cell_type": "code",
   "execution_count": null,
   "id": "524e1620-8c57-48a2-b5ef-f6900cc04b46",
   "metadata": {},
   "outputs": [],
   "source": [
    "# Data type in python \n",
    "a = \"kedar\" # string \n",
    "b = 23 # integer\n",
    "c = 23.45 # floting \n",
    "d = false # Boolean\n",
    "e = None # none type"
   ]
  },
  {
   "cell_type": "code",
   "execution_count": 1,
   "id": "1bdbf144-df7f-441f-ba5e-b7b375640158",
   "metadata": {},
   "outputs": [
    {
     "name": "stdout",
     "output_type": "stream",
     "text": [
      "6\n",
      "2\n",
      "False\n",
      "True or True is True\n",
      "True or False is True\n",
      "False or True is True\n",
      "False or False is False\n",
      "True and True is True\n",
      "True and False is False\n",
      "False and True is False\n",
      "False and False is False\n",
      "False\n",
      "True\n"
     ]
    }
   ],
   "source": [
    "## oprator in python\n",
    "\n",
    "# Arithmatic oprator(+ , - ,*)\n",
    "a = 2\n",
    "b = 4\n",
    "print(a + b)  # output:6\n",
    "\n",
    "# Assignment oprator(+= , -= , ==)\n",
    "a = 4 - 2\n",
    "print(a)     # output:2\n",
    "\n",
    "# comparision oprator(> ,< ,>= , =< ,!=)\n",
    "f = 2>4\n",
    "print(f)     # output:false\n",
    "\n",
    "# Logic oprator(and, or , not)\n",
    "#Truth table for 'or'\n",
    "print(\"True or True is\",True or True)\n",
    "print(\"True or False is\",True or False)\n",
    "print(\"False or True is\",False or True)\n",
    "print(\"False or False is\",False or False)\n",
    "\n",
    "#Truth table for 'and'\n",
    "print(\"True and True is\",True and True)\n",
    "print(\"True and False is\",True and False)\n",
    "print(\"False and True is\",False and True)\n",
    "print(\"False and False is\",False and False)\n",
    "\n",
    "#not\n",
    "print(not(True))  # output:False\n",
    "print(not(False)) # output:True\n"
   ]
  },
  {
   "cell_type": "code",
   "execution_count": 8,
   "id": "d731a267-f3c8-4b7c-be1a-d70ef3c0c1d5",
   "metadata": {},
   "outputs": [
    {
     "name": "stdout",
     "output_type": "stream",
     "text": [
      "<class 'int'>\n",
      "<class 'str'>\n",
      "<class 'float'>\n",
      "<class 'bool'>\n"
     ]
    }
   ],
   "source": [
    "# Type and Typecasting in python\n",
    "a = 2\n",
    "t = type(a)\n",
    "print(t)  # output:integer\n",
    "\n",
    "b = \"kedar\"\n",
    "t = type(b)\n",
    "print(t) # output:string\n",
    "\n",
    "c = 2.34\n",
    "t = type(c)\n",
    "print(t) # output:flot\n",
    "\n",
    "d = False\n",
    "t = type(d)\n",
    "print(t) # output:Boolean"
   ]
  },
  {
   "cell_type": "code",
   "execution_count": 3,
   "id": "4a93d02c-2913-4a5a-b37e-9ea0ad4e420d",
   "metadata": {},
   "outputs": [
    {
     "name": "stdin",
     "output_type": "stream",
     "text": [
      "Enter the number: 10\n",
      "Enter the number: 2\n"
     ]
    },
    {
     "name": "stdout",
     "output_type": "stream",
     "text": [
      "Number a is: 10\n",
      "Number b is: 2\n",
      "sum is  12\n",
      "sub is 8\n",
      "multiply is 20\n",
      "division is 5.0\n"
     ]
    },
    {
     "name": "stdout",
     "output_type": "stream",
     "text": [
      "Number a is: 9\n",
      "Number b is: 9\n",
      "sum is  18\n"
     ]
    }
   ],
   "source": [
    "# intput function in python\n",
    "a = int(input(\"Enter the number:\"))\n",
    "b = int(input(\"Enter the number:\"))\n",
    "print(\"Number a is:\",a)\n",
    "print(\"Number b is:\",b)\n",
    "print(\"sum is \",a + b)\n",
    "print(\"sub is\" ,a - b)\n",
    "print(\"multiply is\" ,a*b)\n",
    "print(\"division is\",a/b)"
   ]
  },
  {
   "cell_type": "code",
   "execution_count": null,
   "id": "65b53530-81c5-46d8-bc97-9aaf4b867a7c",
   "metadata": {},
   "outputs": [],
   "source": [
    "# String in python(immutable):not changes\n",
    "Name = \"kedar\"\n",
    "Name = 'kedar'\n",
    "Name = '''kedar'''\n"
   ]
  },
  {
   "cell_type": "code",
   "execution_count": 4,
   "id": "9849e9fb-1dfc-4422-b4c8-cba7f05f6955",
   "metadata": {},
   "outputs": [
    {
     "name": "stdout",
     "output_type": "stream",
     "text": [
      "eda\n",
      "sh\n"
     ]
    }
   ],
   "source": [
    "# String slicing\n",
    "Name = \"kedar\"\n",
    "print(Name[1:4]) # output:eda \n",
    "\n",
    "\n",
    "# String negative slicing\n",
    "x = \"kishor\"\n",
    "print(x[-4:-2]) # [-4:-2] == [2:4]\n"
   ]
  },
  {
   "cell_type": "code",
   "execution_count": 23,
   "id": "a78fd7fc-08f7-4b01-bded-53a7b8f6ac0a",
   "metadata": {},
   "outputs": [
    {
     "name": "stdout",
     "output_type": "stream",
     "text": [
      "mzn\n"
     ]
    }
   ],
   "source": [
    "# Slicing with skip value\n",
    "Word = \"Amazing\"\n",
    "print(Word[1:6:2]) # output:mzn"
   ]
  },
  {
   "cell_type": "code",
   "execution_count": 6,
   "id": "dc66b79e-3d88-4fbd-a2c7-f5b5f5c68de1",
   "metadata": {},
   "outputs": [
    {
     "name": "stdout",
     "output_type": "stream",
     "text": [
      "True\n",
      "True\n",
      "Kishor\n",
      "KISHOR\n",
      "rishor\n",
      "1\n"
     ]
    }
   ],
   "source": [
    "# String method\n",
    "Name = \"kishor\"\n",
    "print(Name.startswith(\"ki\"))  # output:True\n",
    "print(Name.endswith(\"or\"))    # output:True\n",
    "print(Name.capitalize())      # Output:Kishor\n",
    "print(Name.upper())           # output:KISHOR\n",
    "print(Name.replace(\"k\",\"r\"))  # output: rishor\n",
    "print(Name.count(\"k\"))        # output: 1\n"
   ]
  },
  {
   "cell_type": "code",
   "execution_count": 7,
   "id": "36f4c421-e8be-4e09-a7bb-4f89c1d14fcb",
   "metadata": {},
   "outputs": [
    {
     "name": "stdout",
     "output_type": "stream",
     "text": [
      "5\n"
     ]
    }
   ],
   "source": [
    "# length of string\n",
    "Name = \"kedar\"\n",
    "print(len(Name)) #output :5\n"
   ]
  },
  {
   "cell_type": "code",
   "execution_count": 24,
   "id": "860fc69e-552c-41ef-ae52-dc3b92babcfa",
   "metadata": {},
   "outputs": [
    {
     "name": "stdout",
     "output_type": "stream",
     "text": [
      "kedar is good \n",
      " boy but not a \n",
      " bad boy\n"
     ]
    }
   ],
   "source": [
    "# Escape sequence character\n",
    "a = \"kedar is good \\n boy but not a \\n bad boy\"\n",
    "print(a)"
   ]
  },
  {
   "cell_type": "code",
   "execution_count": null,
   "id": "401939b8-3673-491c-a46f-df1707b0b92f",
   "metadata": {},
   "outputs": [],
   "source": [
    "# List in python(mutable):it changes\n",
    "l = [\"kedar\",233,None,3.45,False]\n",
    "# In list all Data type are present"
   ]
  },
  {
   "cell_type": "code",
   "execution_count": 9,
   "id": "b77bc48f-0060-4c19-9097-19a39ce8603a",
   "metadata": {},
   "outputs": [
    {
     "name": "stdout",
     "output_type": "stream",
     "text": [
      "[2, 3, 4, 5]\n",
      "[4, 5]\n"
     ]
    }
   ],
   "source": [
    "# List slicing \n",
    "l = [1,2,3,4,5,6]\n",
    "print(l[1:5])    # output:[2,3,4,5]\n",
    "print(l[-3:-1])  # output:[4,5]"
   ]
  },
  {
   "cell_type": "code",
   "execution_count": 12,
   "id": "46fdacab-12af-4fdb-9765-18a97e19a5b5",
   "metadata": {},
   "outputs": [
    {
     "name": "stdout",
     "output_type": "stream",
     "text": [
      "['kedar', 23.4, 90, False, None, 'kishor']\n",
      "['Aman', 'kishor', 1000]\n",
      "[9, 8, 7, 6, 5, 4, 3, 2, 1]\n",
      "[99, 12, 'Aryan', 1000, 'Avishkar', 'Harry']\n",
      "[1, 2, 3, 3, 7, 9, 45, 55, 90]\n"
     ]
    }
   ],
   "source": [
    "# list method\n",
    "L1 = [\"kedar\",23.4,90,False,None]\n",
    "L1.append(\"kishor\")  # append : To conect the end of the list\n",
    "print(L1)\n",
    "\n",
    "L2 = [\"Aman\",\"kishor\",1000,\"Harry\"]\n",
    "L2.pop(3) # pop(3):Remove 3rd element in the list \n",
    "print(L2)\n",
    "\n",
    "L3 = [1,2,3,4,5,6,7,8,9]\n",
    "L3.reverse()\n",
    "print(L3)\n",
    "\n",
    "L4 = [99,12,\"Aryan\",\"Avishkar\",\"Harry\"]\n",
    "L4.insert(3,1000)\n",
    "print(L4)\n",
    "     \n",
    "L5 = [3,55,7,9,90,45,2,3,1]\n",
    "L5.sort() # sort : incresing order\n",
    "print(L5)   \n"
   ]
  },
  {
   "cell_type": "code",
   "execution_count": 59,
   "id": "e37cdb4d-251a-4f21-b6e4-bfa6323fe108",
   "metadata": {},
   "outputs": [
    {
     "name": "stdout",
     "output_type": "stream",
     "text": [
      "(1, 2, 3, 4, 3, 5, 4, 2, 1) <class 'tuple'>\n"
     ]
    }
   ],
   "source": [
    "# Tuple(immutable):not changes\n",
    "t = (1,2,3,4,3,5,4,2,1)\n",
    "print(t,type(t))"
   ]
  },
  {
   "cell_type": "code",
   "execution_count": 13,
   "id": "0e4b2054-251d-4b0a-b1b0-7af3b1a6c701",
   "metadata": {},
   "outputs": [
    {
     "name": "stdout",
     "output_type": "stream",
     "text": [
      "(2, 3, 4)\n",
      "(3,)\n"
     ]
    }
   ],
   "source": [
    "# Tuple Slicing\n",
    "tuple = (1,2,3,4,5,6)\n",
    "print(tuple[1:4]) # output:(2,3,4)\n",
    "print(tuple[-4:-3]) # [-4:-3] == [1:2]\n"
   ]
  },
  {
   "cell_type": "code",
   "execution_count": 16,
   "id": "6271ed39-fc76-4b04-8d2b-9735ea7b2aa4",
   "metadata": {},
   "outputs": [
    {
     "name": "stdout",
     "output_type": "stream",
     "text": [
      "(1, 2, 3, 4, 5, 6, 7, 8)\n",
      "(1, 2, 3, 1, 2, 3, 1, 2, 3, 1, 2, 3)\n",
      "3\n",
      "True\n",
      "False\n",
      "678\n",
      "2\n",
      "1 4 3\n",
      "4\n"
     ]
    }
   ],
   "source": [
    "# Tuple method\n",
    "\n",
    "# cocatenation of Tuple\n",
    "tuple1 = (1,2,3,4)\n",
    "tuple2 = (5,6,7,8)\n",
    "k = tuple1 + tuple2\n",
    "print(k)    # output:(1, 2, 3, 4, 5, 6, 7, 8)\n",
    "\n",
    "\n",
    "# Repetition of Tuple\n",
    "tuple = (1,2,3)\n",
    "k = tuple*4\n",
    "print(k)    # output:(1, 2, 3, 1, 2, 3, 1, 2, 3, 1, 2, 3)\n",
    "\n",
    "\n",
    "# Count member in Tuple\n",
    "t = (1,34,6,9,87,34,9,1,90,34)\n",
    "k = t.count(34) \n",
    "print(k)  # output:3\n",
    "\n",
    "\n",
    "# Membership of Tuple\n",
    "tuple3 = (23,45,56,67,89,90)\n",
    "print(45 in tuple3) # output:True\n",
    "print(12 in tuple3) # output:False\n",
    "\n",
    "\n",
    "# max and Min in Tuple\n",
    "Tuple = (12,23,34,45,67,89,90,345,678,2)\n",
    "print(max(Tuple)) # output:678\n",
    "print(min(Tuple)) # output:2\n",
    "\n",
    "\n",
    "# Unpacking of Tuple\n",
    "Tuple = (1,4,3)\n",
    "a,b,c = Tuple\n",
    "print(a,b,c) # output:1 4 3\n",
    "\n",
    "# Length of Tuple\n",
    "Tuple = (1,2,3,4)\n",
    "print(len(Tuple)) #output:4"
   ]
  },
  {
   "cell_type": "code",
   "execution_count": 19,
   "id": "3880c2fe-2d44-4ee2-bd8b-9cd7f7254651",
   "metadata": {},
   "outputs": [
    {
     "name": "stdout",
     "output_type": "stream",
     "text": [
      "dict_keys(['kedar', 'kishor', 'Aman'])\n",
      "dict_values([90, 94, 89])\n",
      "dict_items([('kedar', 90), ('kishor', 94), ('Aman', 89)])\n",
      "90\n",
      "90\n",
      "{'Aryan': 93, 'kishor': 90, 'Avishkar': 92}\n"
     ]
    }
   ],
   "source": [
    "# Dictionary in python(mutable):It changes\n",
    "\n",
    "# Dictinary = {\"keys\":values}\n",
    "\n",
    "\n",
    "D = {\"kedar\":90,\n",
    "     \"kishor\":94,\n",
    "     \"Aman\":89}\n",
    "\n",
    "print(D.keys())       # output:([\"kedar\",\"kishor\",Aman\"])\n",
    "print(D.values())     # output:([90,94,89])\n",
    "print(D.items())      # output:([('kedar', 90), ('kishor', 94), ('Aman', 89)])\n",
    "print(D.get(\"kedar\")) # output: 90\n",
    "print(D[\"kedar\"])     # output:90\n",
    "\n",
    "# Note:output of (D.get(\"kedar\")) and (D[\"kedar\"]) are same \n",
    "# but spaling mistake output for (D.get(\"kedar\")):none \n",
    "# and (D[\"kedar\"]): error\n",
    "\n",
    "a = {\"Aryan\":93,\n",
    "     \"kishor\":98,\n",
    "     \"Avishkar\":92}\n",
    "a.update({\"kishor\":90})\n",
    "print(a)      # output:{'Aryan': 93, 'kishor': 90, 'Avishkar': 92}\n"
   ]
  },
  {
   "cell_type": "code",
   "execution_count": 6,
   "id": "bd6703e4-2409-4a6c-9255-cb694fb7d9bb",
   "metadata": {},
   "outputs": [
    {
     "name": "stdout",
     "output_type": "stream",
     "text": [
      "{1, 2, 3, 4, 5, 6}\n"
     ]
    }
   ],
   "source": [
    "# sets in python\n",
    "s = {1,2,3,4,5,6}\n",
    "print(s)"
   ]
  },
  {
   "cell_type": "code",
   "execution_count": 21,
   "id": "22cd330a-a8ef-4ca9-b48b-8cfc2c73a23f",
   "metadata": {},
   "outputs": [
    {
     "name": "stdout",
     "output_type": "stream",
     "text": [
      "{34, 67, 100, 12, 45, 78}\n",
      "{2, 3, 4, 5, 6, 7, 8}\n"
     ]
    }
   ],
   "source": [
    "# sets method\n",
    "\n",
    "S1 = {12,34,45,67,78}\n",
    "S1.add(100)\n",
    "print(S1)    # output:{34, 67, 100, 12, 45, 78}\n",
    "\n",
    "\n",
    "S2 = {1,2,3,4,5,6,7,8}\n",
    "S2.pop() # Random element in the set will be remove\n",
    "print(S2)   # output:{2, 3, 4, 5, 6, 7, 8}"
   ]
  },
  {
   "cell_type": "code",
   "execution_count": 22,
   "id": "17d4be30-5938-4d8d-a08f-4f07d58bac4e",
   "metadata": {},
   "outputs": [
    {
     "name": "stdout",
     "output_type": "stream",
     "text": [
      "{1, 2, 3, 4, 34, 6, 90}\n",
      "{1, 2, 3, 4, 6}\n"
     ]
    }
   ],
   "source": [
    "# union and intersection in sets\n",
    "s1 = {1,2,3,4,2,1,6}\n",
    "s2 = {6,4,2,1,34,90}\n",
    "print(s1.union(s2)) \n",
    "print(s1.intersection()) # commen element in set s1 and set s2 will be print\n"
   ]
  },
  {
   "cell_type": "code",
   "execution_count": null,
   "id": "e74a253f-67bb-48dc-84e5-e58fa1422281",
   "metadata": {},
   "outputs": [],
   "source": [
    "# empty set \n",
    "e = set()"
   ]
  },
  {
   "cell_type": "code",
   "execution_count": 25,
   "id": "3870d33f-bebe-471b-816a-dbacbd6981f7",
   "metadata": {},
   "outputs": [
    {
     "name": "stdin",
     "output_type": "stream",
     "text": [
      "Enter the number1: 4\n",
      "Enter the number2: 4\n",
      "Enter the number3: 4\n"
     ]
    },
    {
     "name": "stdout",
     "output_type": "stream",
     "text": [
      "4.0\n"
     ]
    },
    {
     "name": "stdin",
     "output_type": "stream",
     "text": [
      "Enter the number1: 4\n",
      "Enter the number2: 4\n",
      "Enter the number3: 4\n"
     ]
    },
    {
     "name": "stdout",
     "output_type": "stream",
     "text": [
      "4.0\n",
      "Thank you\n"
     ]
    },
    {
     "name": "stdin",
     "output_type": "stream",
     "text": [
      "Enter the number1: 4\n",
      "Enter the number2: 4\n",
      "Enter the number3: 4\n"
     ]
    },
    {
     "name": "stdout",
     "output_type": "stream",
     "text": [
      "4.0\n",
      "Thank you\n"
     ]
    }
   ],
   "source": [
    "# Function in python\n",
    "\n",
    "a = int(input(\"Enter the number1:\"))\n",
    "b = int(input(\"Enter the number2:\"))\n",
    "c = int(input(\"Enter the number3:\"))\n",
    "\n",
    "average = (a+b+c)/3\n",
    "print(average)\n",
    "\n",
    "\n",
    "# Function call \n",
    "def Avg():\n",
    "    a = int(input(\"Enter the number1:\"))\n",
    "    b = int(input(\"Enter the number2:\"))\n",
    "    c = int(input(\"Enter the number3:\"))\n",
    "\n",
    "    average = (a+b+c)/3\n",
    "    \n",
    "    print(average)\n",
    "\n",
    "Avg()    \n",
    "print(\"Thank you\")\n",
    "\n",
    "Avg()\n",
    "print(\"Thank you\")\n"
   ]
  },
  {
   "cell_type": "code",
   "execution_count": 30,
   "id": "c4b1abf5-273a-4b82-bab5-8b9500e7ad53",
   "metadata": {},
   "outputs": [
    {
     "name": "stdout",
     "output_type": "stream",
     "text": [
      "Good Day,kedar\n",
      "Thank you\n",
      "Good Day,kishor\n",
      "Thank you\n"
     ]
    }
   ],
   "source": [
    "# Function with arguments\n",
    "def goodDay(name,ending):\n",
    "    print(\"Good Day,\"+ name)\n",
    "    print(ending)\n",
    "\n",
    "goodDay(\"kedar\",\"Thank you\")    \n",
    "goodDay(\"kishor\",\"Thank you\")"
   ]
  },
  {
   "cell_type": "code",
   "execution_count": 26,
   "id": "7ca94566-7227-43f3-9965-c85acd0fa787",
   "metadata": {},
   "outputs": [
    {
     "name": "stdin",
     "output_type": "stream",
     "text": [
      "Enter your age : 45\n"
     ]
    },
    {
     "name": "stdout",
     "output_type": "stream",
     "text": [
      "You are above the age of cosent\n",
      "Good for you\n"
     ]
    },
    {
     "name": "stdin",
     "output_type": "stream",
     "text": [
      "Enter your age : 12\n"
     ]
    },
    {
     "name": "stdout",
     "output_type": "stream",
     "text": [
      "You are below the age of cosent\n"
     ]
    },
    {
     "name": "stdout",
     "output_type": "stream",
     "text": [
      "You are above the age of cosent\n",
      "Good for you\n"
     ]
    }
   ],
   "source": [
    "# conditinal \n",
    "# if and else ladder\n",
    "a = int(input(\"Enter your age :\"))\n",
    "if(a >=18):\n",
    "    print(\"You are above the age of cosent\")\n",
    "    print(\"Good for you\")\n",
    "\n",
    "else:\n",
    "    print(\"You are below the age of cosent\")\n",
    "\n",
    "\n",
    "# if elif else ladder\n",
    "a  = int(input(\"Enter your age :\"))\n",
    "if(a>=18):\n",
    "    print(\"You are above the age of cosent\")\n",
    "    print(\"Good for you\")\n",
    "\n",
    "elif(a==0):\n",
    "    print(\"You age is invalid\")\n",
    "\n",
    "elif(a<0):\n",
    "    print(\"You are entering negative are of consent this is invalid\")\n",
    "\n",
    "else:\n",
    "    print(\"You are below the age of cosent\")\n",
    "    \n",
    "    "
   ]
  },
  {
   "cell_type": "code",
   "execution_count": 32,
   "id": "2fd9f178-3867-48e7-ab03-6767613d291a",
   "metadata": {},
   "outputs": [
    {
     "name": "stdin",
     "output_type": "stream",
     "text": [
      "Enter the number: 5\n"
     ]
    },
    {
     "name": "stdout",
     "output_type": "stream",
     "text": [
      "The number is odd\n"
     ]
    }
   ],
   "source": [
    "# if else ladder\n",
    "a = int(input(\"Enter the number:\"))\n",
    "if(a%2 ==0):\n",
    "    print(\"The number is even\")\n",
    "\n",
    "else:\n",
    "    print(\"The number is odd\")"
   ]
  },
  {
   "cell_type": "code",
   "execution_count": null,
   "id": "6d4d991b-ea08-44a8-9de1-f689d9c145b5",
   "metadata": {},
   "outputs": [],
   "source": [
    "# loops in python\n",
    "\n",
    "# for loop\n",
    "for i in range(1,6):\n",
    "    print(i)\n",
    "\n",
    "for i in range(6):\n",
    "    print(i)\n",
    "\n",
    "# for loop with string ,tuple and list\n",
    "s = \"kedar\n",
    "for i in s:\n",
    "    print(i)\n",
    "\n",
    "t = (1,2,3,4,5)\n",
    "for i in t:\n",
    "    print(i)\n",
    "\n",
    "l = [\"kedar\",\"kishor\",\"False\",23]\n",
    "for i in l:\n",
    "    print(i)\n",
    "\n",
    "# while loop\n",
    "i = 1\n",
    "while(i<6):\n",
    "    print(i)\n",
    "    i = i + 1\n"
   ]
  },
  {
   "cell_type": "code",
   "execution_count": 28,
   "id": "6799d792-aa6d-4a7d-9306-9fc9f974c624",
   "metadata": {},
   "outputs": [],
   "source": [
    "# Break and continue in python\n",
    "for i in range(11):\n",
    "    if(i == 5):\n",
    "        break\n",
    "    print(i)        \n",
    "    \n",
    "for i in range(11):\n",
    "    if(i == 4):\n",
    "        continue\n",
    "    print(i)    \n",
    "\n",
    "# one or more then one element remove in loop\n",
    "for i in range(11):\n",
    "    if i in [1,4,7]:\n",
    "        continue\n",
    "    print(i)    "
   ]
  },
  {
   "cell_type": "code",
   "execution_count": 17,
   "id": "3e04f0d3-54b1-4a94-b444-c67bfcd6faaa",
   "metadata": {},
   "outputs": [
    {
     "name": "stdout",
     "output_type": "stream",
     "text": [
      "Enter the number: 5\n"
     ]
    },
    {
     "name": "stdout",
     "output_type": "stream",
     "text": [
      "120\n"
     ]
    }
   ],
   "source": [
    "# Recursion in python \n",
    "n = int(input(\"Enter the number:\"))\n",
    "def factorial(n):\n",
    "    if(n ==0 or n ==1):\n",
    "        return 1\n",
    "    else:    \n",
    "        return n*factorial(n - 1)  \n",
    "print(factorial(n))"
   ]
  },
  {
   "cell_type": "code",
   "execution_count": null,
   "id": "67f98fbf-4cde-49b2-880c-200e53229bb4",
   "metadata": {},
   "outputs": [],
   "source": [
    "# file \n",
    "# file read\n",
    "f = open(\"file.txt\",\"r\")\n",
    "Data = f.read()\n",
    "print(Data)\n",
    "f.close()\n",
    "\n",
    "# file write\n",
    "x = \"kedar is good boy\"\n",
    "f = open(\"file.txt\",\"w\")\n",
    "print(f.write(x)\n",
    "f.close()      \n",
    "\n",
    "# file append\n",
    "x = \"kedar is good boy\"\n",
    "f = open(\"file.txt\",\"a\")\n",
    "print(f.write(x)      \n",
    "f.close()\n",
    "      \n",
    "# file handling using with\n",
    "with open(\"file.txt\",\"r\") as f:\n",
    "    print(f.read())\n"
   ]
  },
  {
   "cell_type": "code",
   "execution_count": 18,
   "id": "147a9103-395c-4bee-8c82-55443e4c0ea3",
   "metadata": {},
   "outputs": [
    {
     "name": "stdout",
     "output_type": "stream",
     "text": [
      "java 120000\n",
      "c++ 120000\n"
     ]
    }
   ],
   "source": [
    "# object oriented programing\n",
    "class Employee:\n",
    "    language = \"python\"\n",
    "    salray = 120000\n",
    "\n",
    "kedar = Employee()\n",
    "kedar.language = \"java\"\n",
    "print(kedar.language,kedar.salray)\n",
    "\n",
    "kishor = Employee()\n",
    "kishor.language = \"c++\"\n",
    "print(kishor.language,kishor.salray)\n",
    "\n",
    "\n",
    "\n",
    "    "
   ]
  },
  {
   "cell_type": "code",
   "execution_count": 21,
   "id": "8cd24240-c480-4b9f-abd8-b06d9f8a42fb",
   "metadata": {},
   "outputs": [
    {
     "name": "stdout",
     "output_type": "stream",
     "text": [
      "kedar java 2000000\n",
      "kishor c++ 3000000\n"
     ]
    }
   ],
   "source": [
    "# object oriented programing\n",
    "class Employee:\n",
    "    language = \"python\"\n",
    "    salray = 1200000\n",
    "\n",
    "kedar = Employee()\n",
    "kedar.name = \"kedar\"\n",
    "kedar.language = \"java\"\n",
    "kedar.salray = 2000000\n",
    "print(kedar.name,kedar.language,kedar.salray)\n",
    "\n",
    "kishor = Employee()\n",
    "kishor.name = \"kishor\"\n",
    "kishor.language = \"c++\"\n",
    "kishor.salray = 3000000\n",
    "print(kishor.name,kishor.language,kishor.salray)\n",
    "\n"
   ]
  },
  {
   "cell_type": "code",
   "execution_count": 22,
   "id": "85234304-2b3b-42c6-85de-cd7c843f7600",
   "metadata": {},
   "outputs": [
    {
     "name": "stdout",
     "output_type": "stream",
     "text": [
      "java 1200000\n"
     ]
    }
   ],
   "source": [
    "# class attribute vs instance(object) attribute\n",
    "class Employee:\n",
    "    language = \"python\" # class attribute\n",
    "    salray = 1200000\n",
    "\n",
    "kedar = Employee()\n",
    "kedar.language = \"java\" # instance(object) attribute\n",
    "print(kedar.language,kedar.salray)\n"
   ]
  },
  {
   "cell_type": "code",
   "execution_count": 23,
   "id": "3d1d1302-d914-4aae-a1c2-17e7cfc38024",
   "metadata": {},
   "outputs": [
    {
     "name": "stdout",
     "output_type": "stream",
     "text": [
      "The language is java and the salray is 1200000\n"
     ]
    }
   ],
   "source": [
    "# self parameter \n",
    "class Employee:\n",
    "    language  = \"python\"\n",
    "    salray = 1200000\n",
    "    def show(self):\n",
    "        print(f\"The language is {self.language} and the salray is {self.salray}\")\n",
    "\n",
    "kedar = Employee()\n",
    "kedar.language = \"java\"\n",
    "kedar.show()"
   ]
  },
  {
   "cell_type": "code",
   "execution_count": 31,
   "id": "09de48bb-98db-40ec-adf2-b03408361a96",
   "metadata": {},
   "outputs": [
    {
     "name": "stdout",
     "output_type": "stream",
     "text": [
      "The language of Employee is python and the salray is 1200000\n",
      "java 1200000\n"
     ]
    }
   ],
   "source": [
    "# constractor in python\n",
    "class Employee:\n",
    "    language = \"python\"\n",
    "    salray = 1200000\n",
    "    def __init__(self):\n",
    "        print(f\"The language of Employee is {self.language} and the salray is {self.salray}\")\n",
    "        \n",
    "kedar = Employee()\n",
    "kedar.language = \"java\"\n",
    "\n",
    "print(kedar.language,kedar.salray)\n",
    "    "
   ]
  },
  {
   "cell_type": "code",
   "execution_count": 43,
   "id": "01a38926-cf1b-4163-9c69-4c636a2d13b7",
   "metadata": {},
   "outputs": [
    {
     "name": "stdout",
     "output_type": "stream",
     "text": [
      "ITC\n",
      "java\n"
     ]
    }
   ],
   "source": [
    "# inheritance\"\n",
    "class Employee:\n",
    "    company = \"Google\"\n",
    "    language = \"python\"\n",
    "\n",
    "class programmer(Employee):\n",
    "    company = \"Amazon\"\n",
    "    language = \"c++\"\n",
    "\n",
    "class Manager(programmer):\n",
    "    company = \"ITC\"\n",
    "    language = \"java\"\n",
    "\n",
    "o  = Manager() \n",
    "print(o.company)\n",
    "print(o.language)"
   ]
  },
  {
   "cell_type": "code",
   "execution_count": 45,
   "id": "04d99a29-400a-4371-9db7-604cec7fdf6f",
   "metadata": {},
   "outputs": [
    {
     "name": "stdout",
     "output_type": "stream",
     "text": [
      "1\n",
      "1 2\n",
      "1 2 3\n"
     ]
    }
   ],
   "source": [
    "class Employee:\n",
    "    a = 1\n",
    "    \n",
    "class programmer(Employee):\n",
    "    b = 2\n",
    "    \n",
    "class Manager(programmer):\n",
    "    c = 3\n",
    "\n",
    "o = Employee()\n",
    "print(o.a)\n",
    "\n",
    "o = programmer()\n",
    "print(o.a,o.b)\n",
    "\n",
    "o = Manager()\n",
    "print(o.a,o.b,o.c)\n",
    "    "
   ]
  },
  {
   "cell_type": "code",
   "execution_count": 43,
   "id": "3f5194d6-8913-4fc7-abde-05ed1d9023f8",
   "metadata": {},
   "outputs": [
    {
     "name": "stdout",
     "output_type": "stream",
     "text": [
      "The class attribute of a is 45\n",
      "The class attribute of a is 1\n"
     ]
    }
   ],
   "source": [
    "# class method in python\n",
    "\n",
    "# @classmethod is not present\n",
    "class Employee:\n",
    "    a = 1\n",
    "    def show(self):\n",
    "        print(f\"The class attribute of a is {self.a}\")\n",
    "e = Employee()\n",
    "e.a = 45\n",
    "e.show()  # output: The class attribute of a is 45\n",
    "\n",
    "\n",
    "# @classmethod is present\n",
    "class Employee:\n",
    "    a = 1\n",
    "    @classmethod\n",
    "    def show(self):\n",
    "        print(f\"The class attribute of a is {self.a}\")\n",
    "e = Employee()\n",
    "e.a = 45\n",
    "e.show() # output:The class attribute of a is 1"
   ]
  },
  {
   "cell_type": "code",
   "execution_count": 58,
   "id": "8684d835-d3d2-476f-b713-755137facb8b",
   "metadata": {},
   "outputs": [
    {
     "name": "stdout",
     "output_type": "stream",
     "text": [
      "Kedar sutar\n",
      "sutar Kedar\n"
     ]
    }
   ],
   "source": [
    "# property decorator in python\n",
    "class Employee:\n",
    "\n",
    "    @property\n",
    "    def name(self):\n",
    "        return f\"{self.fname} {self.lname}\"\n",
    "    \n",
    "    @name.setter\n",
    "    def name (self,value):\n",
    "        self.fname = value.split(\" \")[0]\n",
    "        self.lname = value.split(\" \")[1]\n",
    "\n",
    "\n",
    "e = Employee()\n",
    "\n",
    "e.name = \"Kedar sutar\"\n",
    "print(e.fname , e.lname)\n",
    "print(e.lname , e.fname)\n",
    "\n"
   ]
  },
  {
   "cell_type": "code",
   "execution_count": 52,
   "id": "e121f992-7492-4936-a584-9d59b123b375",
   "metadata": {},
   "outputs": [
    {
     "name": "stdout",
     "output_type": "stream",
     "text": [
      "I am Employee\n",
      "I am programmer\n",
      "I am Manager\n",
      "c++\n"
     ]
    }
   ],
   "source": [
    "# super method\n",
    "class Employee:\n",
    "    language = \"python\"\n",
    "    def __init__(self):\n",
    "        print(\"I am Employee\")\n",
    "\n",
    "class programmer(Employee):\n",
    "    language = \"java\"\n",
    "    def __init__(self):\n",
    "        super().__init__()\n",
    "        print(\"I am programmer\")\n",
    "\n",
    "class Manager(programmer):\n",
    "    language = \"c++\"\n",
    "    def __init__(self):\n",
    "        super().__init__()\n",
    "        print(\"I am Manager\")\n",
    "o = Manager()\n",
    "\n",
    "print(o.language)\n",
    "    "
   ]
  },
  {
   "cell_type": "code",
   "execution_count": 49,
   "id": "13a054e5-2e79-406d-9d88-3a0ce9b6c97b",
   "metadata": {},
   "outputs": [
    {
     "name": "stdout",
     "output_type": "stream",
     "text": [
      "8\n",
      "5\n",
      "9\n"
     ]
    }
   ],
   "source": [
    "# oprator overloding\n",
    "\n",
    "# Addition\n",
    "class Number:\n",
    "    def __init__(self,n):\n",
    "        self.n = n \n",
    "\n",
    "    def __add__(self,num):\n",
    "        return self.n + num.n\n",
    "\n",
    "n = Number(7)\n",
    "m = Number(1)\n",
    "print(n + m) # output : 8\n",
    "\n",
    "\n",
    "#subtraction\n",
    "class Number:\n",
    "    def __init__(self,n):\n",
    "        self.n = n\n",
    "\n",
    "    def __sub__(self,num):\n",
    "        return self.n - num.n\n",
    "\n",
    "n = Number(10)\n",
    "m = Number(5)\n",
    "print(n - m)  # output:5\n",
    "\n",
    "\n",
    "# multiplication\n",
    "class Number:\n",
    "    def __init__(self,n):\n",
    "        self.n = n\n",
    "        \n",
    "\n",
    "    def __mul__(self,num):\n",
    "       return self.n *num.n\n",
    "\n",
    "n = Number(3)\n",
    "m = Number(3)\n",
    "print(n*m) # output:9\n",
    "   "
   ]
  },
  {
   "cell_type": "code",
   "execution_count": 9,
   "id": "cdba965d-834d-4055-9986-342d8729d7e6",
   "metadata": {},
   "outputs": [
    {
     "name": "stdout",
     "output_type": "stream",
     "text": [
      "{'kedar': 90, 'kishor': 97, 'Aman': 89, 'python': 1, 'java': 2, 'c++': 3}\n"
     ]
    }
   ],
   "source": [
    "# Adv python\n",
    "\n",
    "# Dictinary merged\n",
    "D1 = {\"kedar\" : 90,\"kishor\" : 97,\"Aman\" : 89}\n",
    "\n",
    "D2 = {\"python\" : 1,\"java\" : 2,\"c++\" : 3}\n",
    "\n",
    "print(D1|D2)\n"
   ]
  },
  {
   "cell_type": "code",
   "execution_count": 50,
   "id": "54a06fdb-bc58-4de5-84db-cf925218b983",
   "metadata": {},
   "outputs": [
    {
     "name": "stdout",
     "output_type": "stream",
     "text": [
      "9881027601\n",
      "9579378062\n",
      "1245780091\n",
      "nuknown\n"
     ]
    }
   ],
   "source": [
    "# Match case\n",
    "def http_status(status):\n",
    "    match status:\n",
    "        case \"kedar\":\n",
    "            return 9881027601\n",
    "        \n",
    "        case \"kishor\":\n",
    "            return 9579378062\n",
    "\n",
    "        case \"Aman\":\n",
    "            return 1245780091\n",
    "\n",
    "        case _:\n",
    "            return \"nuknown\"\n",
    "\n",
    "print(http_status(\"kedar\"))\n",
    "print(http_status(\"kishor\"))\n",
    "print(http_status(\"Aman\"))\n",
    "print(http_status(\"aryan\"))    \n",
    "\n",
    "    \n"
   ]
  },
  {
   "cell_type": "code",
   "execution_count": 19,
   "id": "039c3638-ac4c-402b-9544-f9805e1380a0",
   "metadata": {},
   "outputs": [
    {
     "name": "stdout",
     "output_type": "stream",
     "text": [
      "Enter the number: 78\n"
     ]
    },
    {
     "name": "stdout",
     "output_type": "stream",
     "text": [
      "78\n",
      "Thank you\n"
     ]
    }
   ],
   "source": [
    "# Exception in python\n",
    "try:\n",
    "    a = int(input(\"Enter the number:\"))\n",
    "    print(a)\n",
    "\n",
    "except Exception as x:\n",
    "    print(x)\n",
    "print(\"Thank you\")              \n",
    "                  "
   ]
  },
  {
   "cell_type": "code",
   "execution_count": 22,
   "id": "834de9e4-8ed0-4719-aebb-8b8cda619c15",
   "metadata": {},
   "outputs": [
    {
     "name": "stdout",
     "output_type": "stream",
     "text": [
      "Enter the number 40\n",
      "Enter the number 4\n"
     ]
    },
    {
     "name": "stdout",
     "output_type": "stream",
     "text": [
      "The devision a/b is10.0\n"
     ]
    }
   ],
   "source": [
    "# Raise in python\n",
    "a = int(input(\"Enter the number\"))\n",
    "b = int(input(\"Enter the number\"))\n",
    "if(b==0):\n",
    "    raise zeroDivisionerror\n",
    "else: \n",
    "    print(f\"The devision a/b is{a/b}\")"
   ]
  },
  {
   "cell_type": "code",
   "execution_count": 23,
   "id": "221ed326-5984-439e-aebb-21c8945ff712",
   "metadata": {},
   "outputs": [
    {
     "name": "stdout",
     "output_type": "stream",
     "text": [
      "Enter the number : 60\n"
     ]
    },
    {
     "name": "stdout",
     "output_type": "stream",
     "text": [
      "60\n",
      "I am inside the else\n"
     ]
    }
   ],
   "source": [
    "# try with else\n",
    "try:\n",
    "    a = int(input(\"Enter the number :\"))\n",
    "    print(a)\n",
    "except Exception as e:\n",
    "    print(e)\n",
    "else:\n",
    "    print(\"I am inside the else\")\n",
    "    "
   ]
  },
  {
   "cell_type": "code",
   "execution_count": 25,
   "id": "79dd8365-d729-4534-9e5a-1dfd221b56f7",
   "metadata": {},
   "outputs": [
    {
     "name": "stdout",
     "output_type": "stream",
     "text": [
      "Enter the number: kedar\n"
     ]
    },
    {
     "name": "stdout",
     "output_type": "stream",
     "text": [
      "invalid literal for int() with base 10: 'kedar'\n",
      "I am inside the finally\n"
     ]
    }
   ],
   "source": [
    "# finally \n",
    "def show():\n",
    "    try:\n",
    "        a = int(input(\"Enter the number:\"))\n",
    "        print(a)\n",
    "    except Exception as e:\n",
    "        print(e)\n",
    "    finally:\n",
    "        print(\"I am inside the finally\")\n",
    "\n",
    "show()        \n"
   ]
  },
  {
   "cell_type": "code",
   "execution_count": 26,
   "id": "07eb93c5-5f72-4a07-9159-065724f0b785",
   "metadata": {},
   "outputs": [
    {
     "name": "stdout",
     "output_type": "stream",
     "text": [
      "45\n"
     ]
    }
   ],
   "source": [
    "# Global in python\n",
    "a = 45\n",
    "def fun():\n",
    "    global a\n",
    "    a = 3\n",
    "    print(a)\n",
    "    fun()\n",
    "print(a)"
   ]
  },
  {
   "cell_type": "code",
   "execution_count": 34,
   "id": "324cf6a4-ffe4-40cc-9fb7-9f865a0a85d5",
   "metadata": {},
   "outputs": [
    {
     "name": "stdout",
     "output_type": "stream",
     "text": [
      "[1, 4, 9, 16, 25, 36]\n"
     ]
    }
   ],
   "source": [
    "# list comprehension  \n",
    "list = [1,2,3,4,5,6]\n",
    "print([i*i for i in list]) "
   ]
  },
  {
   "cell_type": "code",
   "execution_count": 60,
   "id": "5e195b8f-0590-4812-ad91-9d240cba6f45",
   "metadata": {},
   "outputs": [
    {
     "name": "stdout",
     "output_type": "stream",
     "text": [
      "The name at index 0 is kedar\n",
      "The name at index 1 is kishor\n",
      "The name at index 2 is Aman\n",
      "The name at index 3 is Aryan\n",
      "The name at index 4 is Ram\n",
      "The name at index 5 is om\n",
      "The name at index 6 is Rohan\n"
     ]
    }
   ],
   "source": [
    "# enumerate in python\n",
    "l = [\"kedar\",\"kishor\",\"Aman\",\"Aryan\",\"Ram\",\"om\",\"Rohan\"]\n",
    "for index,name in enumerate(l):\n",
    "    print(f\"The name at index {index} is {name}\")"
   ]
  },
  {
   "cell_type": "code",
   "execution_count": 63,
   "id": "a2dfb897-03c6-4de9-b567-f5ec320ed2bc",
   "metadata": {},
   "outputs": [
    {
     "name": "stdout",
     "output_type": "stream",
     "text": [
      "25\n"
     ]
    }
   ],
   "source": [
    "# lambda function in python\n",
    "square = lambda x:x*x\n",
    "print(square(5))"
   ]
  },
  {
   "cell_type": "code",
   "execution_count": 1,
   "id": "5b02f6d0-bd3e-45ea-bdd7-4dfca2580f25",
   "metadata": {},
   "outputs": [
    {
     "name": "stdout",
     "output_type": "stream",
     "text": [
      "kedar is Good boy but not bad boy\n"
     ]
    }
   ],
   "source": [
    "# format in python\n",
    "a = \"{0} is Good {1} but not bad boy\".format(\"kedar\",\"boy\")\n",
    "print(a)"
   ]
  },
  {
   "cell_type": "code",
   "execution_count": 4,
   "id": "2e28a88e-0496-4b9d-8882-c69d5431e162",
   "metadata": {},
   "outputs": [
    {
     "name": "stdout",
     "output_type": "stream",
     "text": [
      "kedar : kishor : physics\n",
      "kedar,and,kishor,and,physics\n"
     ]
    }
   ],
   "source": [
    "# join method in python \n",
    "l = [\"kedar\" , \"kishor\" , \"physics\"]\n",
    "print(\" : \".join(l))\n",
    "print(\",and,\".join(l))\n"
   ]
  },
  {
   "cell_type": "code",
   "execution_count": 6,
   "id": "014dac1d-62e6-431f-8ccb-854be77888bb",
   "metadata": {},
   "outputs": [
    {
     "name": "stdout",
     "output_type": "stream",
     "text": [
      "[1, 4, 9, 16, 25, 36, 49, 64, 81]\n"
     ]
    }
   ],
   "source": [
    "# map function in python \n",
    "l = [1,2,3,4,5,6,7,8,9]\n",
    "square = lambda x:x*x\n",
    "sqlist = map(square,l)\n",
    "print(list(sqlist))"
   ]
  },
  {
   "cell_type": "code",
   "execution_count": 54,
   "id": "99f4a4b7-2507-49bb-a780-953eeb6d0884",
   "metadata": {},
   "outputs": [
    {
     "name": "stdout",
     "output_type": "stream",
     "text": [
      "[2, 4, 6, 8]\n"
     ]
    }
   ],
   "source": [
    "# filter function in python\n",
    "l = [1,2,3,4,5,6,7,8,9]\n",
    "def even(n):\n",
    "    if(n%2 ==0):\n",
    "        return True\n",
    "    return False \n",
    "\n",
    "onlyeven = filter(even,l)\n",
    "print(list(onlyeven))"
   ]
  },
  {
   "cell_type": "code",
   "execution_count": 57,
   "id": "d14d49bd",
   "metadata": {},
   "outputs": [
    {
     "name": "stdout",
     "output_type": "stream",
     "text": [
      "36\n",
      "40320\n"
     ]
    }
   ],
   "source": [
    "# Reduce method in python\n",
    "from functools import reduce\n",
    "l = [1,2,3,4,5,6,7,8]\n",
    "def sum(a,b):\n",
    "    return a+b\n",
    "\n",
    "mul = lambda x,y:x*y\n",
    "print(reduce(sum,l)) # output:36\n",
    "print(reduce(mul,l)) # output:40320\n",
    "\n",
    "\n",
    "\n"
   ]
  },
  {
   "cell_type": "code",
   "execution_count": null,
   "id": "8c036b5f-5f42-4577-a9c6-2e47bd108937",
   "metadata": {},
   "outputs": [],
   "source": [
    "# practice set:1\n",
    "\n",
    "# 1. Write a program to print Twinkle twinkle little star poem in python.\n",
    "\n",
    "Ans:print(\" Twinkle twinkle little star \")\n",
    "\n",
    "\n",
    "\n",
    "# 4. Write a python program to print the contents of a directory using the os module. \n",
    "Search online for the function which does that.\n",
    "    \n",
    "Ans : import os\n",
    "directory_path = '/'\n",
    "cotents = os.listdir(directory_path)\n",
    "\n",
    "for item in cotents:\n",
    "    print(item)"
   ]
  },
  {
   "cell_type": "code",
   "execution_count": null,
   "id": "d572301d-deab-4dae-b9d3-b97c32a440e5",
   "metadata": {},
   "outputs": [],
   "source": [
    "# Practice set:2\n",
    "\n",
    "Ex:1. Write a python program to add two numbers. \n",
    "    \n",
    "Ex:2. Write a python program to find remainder when a number is divided by z. \n",
    "    \n",
    "Ex:3. Check the type of variable assigned using input () function. \n",
    "\n",
    "Ex:4. Use comparison operator to find out whether ‘a’ given variable a is greater than \n",
    "     ‘b’ or not. Take a = 34 and b = 80 \n",
    "\n",
    "Ex:5. Write a python program to find an average of two numbers entered by the user. \n",
    "\n",
    "Ex:6. Write a python program to calculate the square of a number entered by the user. \n",
    "\n",
    "Answer:\n",
    "# Ex:1\n",
    "a = 2\n",
    "b = 3\n",
    "print(a + b)\n",
    "\n",
    "\n",
    "# Ex:2\n",
    "a = 34\n",
    "b = 5\n",
    "print(\"Reminder when a is divided by b is :\",a % b)\n",
    "\n",
    "# Ex:3\n",
    "x = input(\"Enter the value of x:\")\n",
    "t = type(x)\n",
    "print(t)\n",
    "\n",
    "\n",
    "# Ex:4\n",
    "a = int(input(\"Enter the first number:\"))\n",
    "b = int(input(\"Enter the second number:\"))\n",
    "print(\"a is greater then b is\" , a>b)\n",
    "\n",
    "\n",
    "# Ex:5\n",
    "x = int(input(\"Enter the number 1:\"))\n",
    "y = int(input(\"Enter the number 2:\"))\n",
    "\n",
    "average = (x + y)/2\n",
    "print(average)\n",
    "\n",
    "# Ex:6\n",
    "n = int(input(\"Enter the number:\"))\n",
    "m = n*n\n",
    "print(m)\n",
    "\n",
    "\n",
    "\n"
   ]
  },
  {
   "cell_type": "code",
   "execution_count": null,
   "id": "5ccaa9ee-ec5d-4f0c-b962-5392b5294316",
   "metadata": {},
   "outputs": [],
   "source": [
    "# Practice set:3\n",
    "\n",
    "Ex:1. Write a python program to display a user entered name followed by Good \n",
    "Afternoon using input () function.\n",
    "\n",
    "Ex:2. Write a program to fill in a letter template given below with name and date. \n",
    "letter = '''  \n",
    "Dear <|Name|>, \n",
    "You are selected! \n",
    "<|Date|> \n",
    "''' \n",
    "\n",
    "Ex:3. Write a program to detect double space in a string. \n",
    "\n",
    "Ex:4. Replace the double space from problem 3 with single spaces. \n",
    "\n",
    "Ex:5. Write a program to format the following letter using escape sequence \n",
    "characters. \n",
    "letter = \"Dear Harry, this python course is nice. Thanks!\"\n",
    "\n",
    "Answer:\n",
    "# Ex:1\n",
    "Name = input(\"Enter your name:\")\n",
    "print(f\"Good afternoon ,{Name}\")\n",
    "\n",
    "\n",
    "# Ex:2\n",
    "letter = '''  \n",
    "Dear <|Name|>, \n",
    "You are selected! \n",
    "<|Date|> \n",
    "''' \n",
    "print(letter.replace(\"<|Name|>\",\"kedar\").replace(\"<|Date|> \",\"23 sep 2026\"))\n",
    "\n",
    "\n",
    "# Ex:3\n",
    "name = \"kedar is a good boy\"\n",
    "print(name.find(\" \"))\n",
    "\n",
    "\n",
    "# Ex:4\n",
    "name = \"kedar   is   a   good   boy\"\n",
    "print(name.replace(\"  \",\"\"))\n",
    "\n",
    "\n",
    "# Ex:5\n",
    "letter = \"Dear \\nHarry, this python \\ncourse is nice. Thanks!\"\n",
    "print(letter)\n"
   ]
  },
  {
   "cell_type": "code",
   "execution_count": null,
   "id": "e6b08fbb-4285-41f5-a310-cc5f25555143",
   "metadata": {},
   "outputs": [],
   "source": [
    "# Practice set:4\n",
    "Ex:1. Write a program to store seven fruits in a list entered by the user. \n",
    "\n",
    "Ex:2. Write a program to accept marks of 6 students and display them in a sorted \n",
    "manner. \n",
    "\n",
    "Ex:3. Check that a tuple type cannot be changed in python. \n",
    "\n",
    "Ex:4. Write a program to sum a list with 4 numbers. \n",
    "\n",
    "Ex:5. Write a program to count the number of zeros in the following tuple: \n",
    "a = (7, 0, 8, 0, 0, 9) \n",
    "\n",
    "Answer:\n",
    "# Ex:1\n",
    "\n",
    "fruits  = []\n",
    "f1 = input(\"Enter fruits name:\")\n",
    "fruits.append(f1)\n",
    "\n",
    "f2 = input(\"Enter fruits name:\")\n",
    "fruits.append(f2)\n",
    "\n",
    "f3 = input(\"Enter fruits name:\")\n",
    "fruits.append(f3)\n",
    "\n",
    "f4 = input(\"Enter fruits name:\")\n",
    "fruits.append(f4)\n",
    "\n",
    "f5 = input(\"Enter fruits name:\")\n",
    "fruits.append(f5)\n",
    "\n",
    "f6 = input(\"Enter fruits name:\")\n",
    "fruits.append(f6)\n",
    "\n",
    "f7 = input(\"Enter fruits name:\")\n",
    "fruits.append(f7)\n",
    "\n",
    "print(fruits)\n",
    "\n",
    "\n",
    "# Ex:2\n",
    "\n",
    "marks  = []\n",
    "f1 = int(input(\"Enter marks here:\"))\n",
    "marks.append(f1)\n",
    "\n",
    "f2 = int(input(\"Enter marks here:\"))\n",
    "marks.append(f2)\n",
    "\n",
    "f3 = int(input(\"Enter marks here:\"))\n",
    "marks.append(f3)\n",
    "\n",
    "f4 = int(input(\"Enter marks here:\"))\n",
    "marks.append(f4)\n",
    "\n",
    "f5 = int(input(\"Enter marks here:\"))\n",
    "marks.append(f5)\n",
    "\n",
    "f6 = int(input(\"Enter marks here:\"))\n",
    "marks.append(f6)\n",
    "\n",
    "marks.sort()\n",
    "print(marks)\n",
    "\n",
    "\n",
    "# Ex:3\n",
    "   # Ans: tuple is immutable \n",
    "\n",
    "\n",
    "# Ex:4\n",
    "l = [1,2,3,4,5,6]\n",
    "print(sum(l))\n",
    "\n",
    "\n",
    "# Ex:5\n",
    "t = (7, 0, 8, 0, 0, 9)\n",
    "print(t.count(0))\n",
    "\n"
   ]
  },
  {
   "cell_type": "code",
   "execution_count": null,
   "id": "cb6bb386-0faf-490f-b4c1-12c50e2e35f2",
   "metadata": {},
   "outputs": [],
   "source": [
    "# Practice set:5\n",
    "Ex:1. Write a program to create a dictionary of Hindi words with values as their English \n",
    "      translation. Provide user with an option to look it up!\n",
    "\n",
    "Ex:2. Write a program to input eight numbers from the user and display all the unique \n",
    "      numbers (once). \n",
    "\n",
    "Ex:3. Can we have a set with 18 (int) and '18' (str) as a value in it? \n",
    "\n",
    "Ex:4. What will be the length of following set s: \n",
    "      s = set() \n",
    "      s.add(20) \n",
    "      s.add(20.0) \n",
    "      s.add('20') # length of s after these operations? \n",
    "\n",
    "Ex:5. s = {} \n",
    "      What is the type of 's'? \n",
    "\n",
    "Ex:6. Create an empty dictionary. Allow 4 friends to enter their favorite language as \n",
    "      value and use key as their names. Assume that the names are unique. \n",
    "\n",
    "Ex:7. If the names of 2 friends are same; what will happen to the program in problem \n",
    "      6? \n",
    "\n",
    "Ex:8. If languages of two friends are same; what will happen to the program in problem \n",
    "      6? \n",
    "\n",
    "Ex:9. Can you change the values inside a list which is contained in set S? \n",
    "      s = {8, 7, 12, \"Harry\", [1,2]} \n",
    "\n",
    "Answer:\n",
    "# Ex:1         \n",
    "words = {\"madad\":\"help\",\n",
    "    \"kursi\":\"chair\",\n",
    "     \"billi\":\"cat\"}\n",
    "word = input(\"Enter the word you want meaning of:\")\n",
    "print(words[word])\n",
    "\n",
    "\n",
    "\n",
    "# Ex:2\n",
    "s = set()\n",
    "\n",
    "n = input(\"Enter number :\")\n",
    "s.add(int(n))\n",
    "n = input(\"Enter number :\")\n",
    "s.add(int(n))\n",
    "n = input(\"Enter number :\")\n",
    "s.add(int(n))\n",
    "n = input(\"Enter number :\")\n",
    "s.add(int(n))\n",
    "n = input(\"Enter number :\")\n",
    "s.add(int(n))\n",
    "n = input(\"Enter number :\")\n",
    "s.add(int(n))\n",
    "n = input(\"Enter number :\")\n",
    "s.add(int(n))\n",
    "n = input(\"Enter number :\")\n",
    "s.add(int(n))\n",
    "print(s)\n",
    "\n",
    "\n",
    "# Ex:3\n",
    "s = set()\n",
    "s.add(\"18\")\n",
    "print(s)\n",
    "\n",
    "\n",
    "# Ex:4\n",
    "s = set()\n",
    "s.add(20)\n",
    "s.add(20.0)\n",
    "s.add('20') # length after these operations?\n",
    "print(len(s))\n",
    "\n",
    "\n",
    "# Ex:5\n",
    "s = set()\n",
    "\n",
    "# Ex:6\n",
    "D = {}\n",
    "for i in range(0,4):\n",
    "    key = input(\"Enter the your name: \")\n",
    "    value = input(\"enter your favourite language : \")\n",
    "    D[key] = value\n",
    "    \n",
    "print(D)\n",
    "\n",
    "'''OR'''\n",
    "\n",
    "D = {}\n",
    "Name = input(\"Enter friends name :\")\n",
    "lang = input(\"Enter your language:\")\n",
    "D.update({Name:lang})\n",
    "\n",
    "Name = input(\"Enter friends name :\")\n",
    "lang = input(\"Enter your language:\")\n",
    "D.update({Name:lang})\n",
    "\n",
    "Name = input(\"Enter friends name :\")\n",
    "lang = input(\"Enter your language:\")\n",
    "D.update({Name:lang})\n",
    "\n",
    "Name = input(\"Enter friends name :\")\n",
    "lang = input(\"Enter your language:\")\n",
    "D.update({Name:lang})\n",
    "print(D)\n",
    "\n",
    "\n",
    "\n",
    "## Ex:7\n",
    "D = {}\n",
    "for i in range(0,4):\n",
    "    key = input(\"Enter the your name: \")\n",
    "    value = input(\"Enter your favourite language : \")\n",
    "    D[key] = value\n",
    "    \n",
    "print(D)\n",
    "\n",
    "## Ex:8\n",
    "D = {}\n",
    "for i in range(0,4):\n",
    "    key = input(\"Enter the your name: \")\n",
    "    value = input(\"Enter your favourite language : \")\n",
    "    D[key] = value\n",
    "    \n",
    "print(D)\n",
    "\n",
    "\n",
    "## Ex:9\n",
    "s = {8, 7, 12, \"Harry\", [1,2]}\n",
    "   # Ans:not changes\n"
   ]
  },
  {
   "cell_type": "code",
   "execution_count": null,
   "id": "272eddd4-5bba-4af0-9f72-960e1bd36798",
   "metadata": {},
   "outputs": [],
   "source": [
    "# Practice set:6\n",
    "Ex:1. Write a program to find the greatest of four numbers entered by the user. \n",
    "\n",
    "Ex:2. Write a program to find out whether a student has passed or failed if it requires a \n",
    "      total of 40% and at least 33% in each subject to pass. Assume 3 subjects and \n",
    "      take marks as an input from the user. \n",
    "\n",
    "Ex:3. A spam comment is defined as a text containing following keywords: \n",
    "      “Make a lot of money”, “buy now”, “subscribe this”, “click this”. Write a program \n",
    "      to detect these spams. \n",
    "\n",
    "Ex:4. Write a program to find whether a given username contains less than 10 \n",
    "      characters or not. \n",
    "\n",
    "Ex:5. Write a program which finds out whether a given name is present in a list or not. \n",
    "\n",
    "Ex:6. Write a program to calculate the grade of a student from his marks from the \n",
    "      following scheme: \n",
    "      90 – 100 => Ex \n",
    "      80 – 90 => A \n",
    "      70 – 80 => B \n",
    "      60 – 70  =>C \n",
    "      50 – 60 => D \n",
    "      <50        \n",
    "      => F \n",
    "\n",
    "Ex:7. Write a program to find out whether a given post is talking about “Harry” or not. \n",
    "\n",
    "Answer:\n",
    "# Ex:1\n",
    "a1 = int(input(\"Enter the number 1:\"))\n",
    "a2 = int(input(\"Enter the number 2:\"))\n",
    "a3 = int(input(\"Enter the number 3:\"))\n",
    "a4 = int(input(\"Enter the number 4:\"))\n",
    "\n",
    "if(a1>a2 and a1>a3 and a1>a4):\n",
    "    print(\"Gretest number is a1:\",a1)\n",
    "\n",
    "elif(a2>a1 and a2>a3 and a2>a4):\n",
    "    print(\"Gretest number is a2:\",a2)  \n",
    "\n",
    "elif(a3>a1 and a3>a2 and a3>a4):\n",
    "    print(\"Gretest number is a3:\",a3)   \n",
    "\n",
    "elif(a4>a1 and a4>a2 and a4>a3):\n",
    "    print(\"Gretest number is a4:\",a4)    \n",
    "\n",
    "\n",
    "# Ex:2\n",
    "marks1 = int(input(\"Enter Marks 1:\"))\n",
    "marks2 = int(input(\"Enter Marks 2:\"))\n",
    "marks3 = int(input(\"Enter Marks 3:\"))\n",
    "\n",
    "# check for total percentage\n",
    "total_percentage = (100*(marks1 + marks2 + marks3))/300\n",
    "\n",
    "if(total_percentage>=40 and marks1>=30 and marks2>=30 and marks3>=30):\n",
    "    print(\"You are pass:\",total_percentage)\n",
    "\n",
    "else:\n",
    "    print(\"You are failed,try next year:\",total_percentage)\n",
    "    \n",
    "\n",
    "# Ex:3\n",
    "p1 = \"make a lot of money\"\n",
    "p2 = \"buy now\"\n",
    "p3 = \"subscribe this\"\n",
    "p4 = \"click this\"\n",
    "\n",
    "message = input(\"Enter your comment:\")\n",
    "\n",
    "if((p1 in message) or (p2 in message) or (p3 in message) or (p4 in message)):\n",
    "    print(\"This comment is aspam\")\n",
    "\n",
    "else:\n",
    "    print(\"This comment is not a spam\")    \n",
    "\n",
    "\n",
    "# Ex:4\n",
    "username = input(\"Enter username:\")\n",
    "if(len(username)<10):\n",
    "    print(\"Your username contain less than 10 character\")\n",
    "\n",
    "else:\n",
    "    print(\"all is well\")       \n",
    "\n",
    "\n",
    "# Ex:5\n",
    "l = [\"kedar\",\"kishor\",\"Aman\",\"java\",\"python\",\"c++\"]   \n",
    "name = input(\"Enter your name:\")\n",
    "\n",
    "if(name in l):\n",
    "    print(\"Your name in list\")\n",
    "\n",
    "else:\n",
    "    print(\"Your name is not in list\")    \n",
    "\n",
    "\n",
    "# Ex:6   \n",
    "Marks = int(input(\"Enter the number:\"))\n",
    "if(100>= Marks >= 90):\n",
    "    print(\"Ex\")\n",
    "\n",
    "elif(89 >= Marks >= 80):\n",
    "    print(\"A\")\n",
    "\n",
    "elif(79 >=Marks >= 70 ):\n",
    "    print(\"B\")    \n",
    "\n",
    "elif(69 >=Marks >= 60 ):\n",
    "    print(\"C\")    \n",
    "\n",
    "elif(59 >= Marks >= 50):\n",
    "    print(\"D\")    \n",
    "\n",
    "else:\n",
    "    print(\"F\")    \n",
    "\n",
    "\n",
    "# Ex:7\n",
    "post = input(\"Enter the post:\")\n",
    "if(\"Harry\" in post):\n",
    "    print(\"Harry is present in the post\")\n",
    "\n",
    "else:\n",
    "    print(\"Harry dont present in the post\")    "
   ]
  },
  {
   "cell_type": "code",
   "execution_count": null,
   "id": "6e1919c6-9e76-44dd-b0f5-ad4d343d3240",
   "metadata": {},
   "outputs": [],
   "source": [
    "# Practice set:7\n",
    "Ex:1. Write a program to print multiplication table of a given number using for loop. \n",
    "                                                                           \n",
    "Ex:2. Write a program to greet all the person names stored in a list ‘l’ and which starts \n",
    "      with S. \n",
    "      l = [\"Harry\", \"Soham\", \"Sachin\", \"Rahul\"] \n",
    "\n",
    "Ex:3. Attempt problem 1 using while loop. \n",
    "\n",
    "Ex:4. Write a program to find whether a given number is prime or not. \n",
    "\n",
    "Ex:5. Write a program to find the sum of first n natural numbers using while loop. \n",
    "\n",
    "Ex:6. Write a program to calculate the factorial of a given number using for loop. \n",
    "\n",
    "Ex:7. Write a program to print the following star pattern. \n",
    "     * \n",
    "     *** \n",
    "     ***** for n = 3 \n",
    "\n",
    "Ex:8. Write a program to print the following star pattern: \n",
    "     * \n",
    "     ** \n",
    "     ***      for n = 3 \n",
    "\n",
    "Ex:9. Write a program to print the following star pattern. \n",
    "      * * * \n",
    "      *   *   for n = 3 \n",
    "      * * *  \n",
    "    \n",
    "Ex:10. Write a program to print multiplication table of n using for loops in reversed \n",
    "      order. \n",
    "\n",
    "Answer:\n",
    "# Ex:1\n",
    "\n",
    "n = int(input(\"Enter a number:\"))\n",
    "\n",
    "for i in range(1,11):\n",
    "     print(f\"{n} X {i} = {n * i}\")\n",
    "\n",
    "\n",
    "# Ex:2\n",
    "l = [\"Harry\",\"Soham\",\"Sachin\",\"Rahul\"]\n",
    "\n",
    "for name in l:\n",
    "     if(name.startswith(\"S\")):\n",
    "        print(f\"Hello {name}\")\n",
    "\n",
    " \n",
    "# Ex:3\n",
    "x = int(input(\"Enter the number \"))\n",
    "i = 1\n",
    "while(i<11):\n",
    "     print(f\"{x} X {i} = {x * i}\")\n",
    "     i = i + 1 \n",
    "\n",
    "\n",
    "# Ex:4\n",
    "m = int(input(\"Enter the number:\"))\n",
    "\n",
    "for i in range(2,m):\n",
    "    if(m%i)==0:\n",
    "        print(\"Number is not prime\")\n",
    "        break\n",
    "else:\n",
    "    print(\"Number is prime\")\n",
    "\n",
    "\n",
    "# Ex:5\n",
    "y = int(input(\"Enter the number:\"))\n",
    "i = 1\n",
    "sum = 0\n",
    "while(i<=y):\n",
    "     sum +=i\n",
    "     i+=1\n",
    "\n",
    "     print(sum)\n",
    "\n",
    "\n",
    "# Ex:6\n",
    "# 5! = 1 X 2 X 3 X 4 X 5\n",
    "n = int(input(\"Enter the number:\"))\n",
    "def factorial(n):\n",
    "    if(n==0 or n==1):\n",
    "        return 1\n",
    "    \n",
    "    else:\n",
    "        return n*factorial(n-1)\n",
    "print(factorial(n))\n",
    "\n",
    "'''\n",
    "OR\n",
    "'''\n",
    "n = int(input(\"Enter the number:\"))\n",
    "product = 1\n",
    "for i in range(1,n+1):\n",
    "    product = product * i\n",
    "\n",
    "print(f\"The factorial of {n} is {product}\")\n",
    "\n",
    "\n",
    "# Ex:7\n",
    "'''\n",
    "For n = 3\n",
    "     *\n",
    "    ***\n",
    "   *****\n",
    "\n",
    "   '''\n",
    "\n",
    "n = int(input(\"Enter the number:\"))\n",
    "for i in range (1, n+1):\n",
    "    print(\" \"* (n-i), end=\"\")\n",
    "    print(\"*\"* (2*i-1),end=\"\")\n",
    "    print(\"\")\n",
    "\n",
    "\n",
    "# Ex:8\n",
    "n = int(input(\"Enter the number:\"))\n",
    "for i in range(1, n+1):\n",
    "    print(\"*\"*i,end=\"\")\n",
    "    print(\"\")\n",
    "\n",
    "\n",
    "# # Ex:9\n",
    "# '''\n",
    "# * * *\n",
    "# *   *   for n = 3\n",
    "# * * *\n",
    "# '''\n",
    "\n",
    "\n",
    "n = int(input(\"Enter the number:\"))\n",
    "for i in range(1, n+1):\n",
    "    if(i==1 or i==n):\n",
    "        #print(\"*\"*n, end=\"\")\n",
    "    else:\n",
    "        print(\"*\",end=\"\")\n",
    "        print(\" \"*(n-2),end=\"\")  \n",
    "        print(\"*\",end=\"\") \n",
    "        print(\"\")  \n",
    "\n",
    "\n",
    "# Ex:10\n",
    "n = int(input(\"Enter the number: \")) \n",
    "\n",
    "for i in range(1,11):\n",
    "    print(f\"{n} X {11-i} = {n*(11-i)}\")"
   ]
  },
  {
   "cell_type": "code",
   "execution_count": null,
   "id": "8fd61fbe-46c8-4462-a3a7-cf58d42ecd66",
   "metadata": {},
   "outputs": [],
   "source": [
    "# Practice set:8\n",
    "Ex:1. Write a program using functions to find greatest of three numbers. \n",
    "\n",
    "Ex:2. Write a python program using function to convert Celsius to Fahrenheit. \n",
    "\n",
    "Ex:3. How do you prevent a python print() function to print a new line at the end. \n",
    "    \n",
    "Ex:4. Write a recursive function to calculate the sum of first n natural numbers.\n",
    "\n",
    "Ex:5. Write a python function to print first n lines of the following pattern: \n",
    "     *** \n",
    "     **               \n",
    "     * - for n = 3 \n",
    "\n",
    "Ex:6. Write a python function which converts inches to cms. \n",
    "\n",
    "Ex:7. Write a python function to remove a given word from a list ad strip it at the same \n",
    "      time. \n",
    "\n",
    "Ex:8. Write a python function to print multiplication table of a given number. \n",
    "\n",
    "Answer:\n",
    "# Ex:1\n",
    "def greatest(a,b,c):\n",
    "    if(a>b and a>c):\n",
    "        return a\n",
    "    elif(b>a and b>c):\n",
    "        return b \n",
    "    elif(c>a and c>b):\n",
    "        return c\n",
    "    \n",
    "a = 12\n",
    "\n",
    "b = 275\n",
    "\n",
    "c = 14\n",
    "\n",
    "print(greatest(a,b,c))\n",
    "\n",
    "\n",
    "# Ex:2\n",
    "f = int(input(\"Enter the temperture in f:\"))\n",
    "def f_to_c(f):\n",
    "    return 5*(f - 32)/9\n",
    "print(f_to_c(f))\n",
    "\n",
    "\n",
    "# Ex:3\n",
    "print(\"a\")\n",
    "print(\"b\")\n",
    "print(\"c\", end=\"\")\n",
    "print(\"d\", end=\"\")\n",
    "print(\"e\", end=\"\")\n",
    "\n",
    "\n",
    "# Ex:4\n",
    "'''\n",
    "sum(1) = 1\n",
    "sum(2) = 1 + 2\n",
    "sum(3) = 1 + 2 + 3\n",
    "sum(4) = 1 + 2 + 3 + 4\n",
    "sum(5) = 1 + 2 + 3 + 4 + 5\n",
    "\n",
    "sum(n) = 1 + 2 + 3 + 4 + 5.......n-1 + n\n",
    "sum(n) = sum(n-1) + n\n",
    "\n",
    "'''\n",
    "n = int(input(\"Enter the number:\"))\n",
    "def sum(n):\n",
    "    if(n==1):\n",
    "        return 1\n",
    "    return sum(n-1) + n\n",
    "\n",
    "print(sum(n))\n",
    "\n",
    "\n",
    "# Ex:5\n",
    "def  pattern(n):\n",
    "    if(n==0):\n",
    "        return\n",
    "    print(\"*\" * n)\n",
    "    pattern(n - 1)\n",
    "\n",
    "n = int(input(\"Enter the number:\"))\n",
    "pattern(n)\n",
    "\n",
    "\n",
    "# Ex:6\n",
    "n = int(input(\"Enter the value in inch:\"))\n",
    "\n",
    "def inch_to_cms(inch):\n",
    "    return inch * 2.54  # 1 inch = 2.54cms\n",
    "\n",
    "print(f\"The corresponding value in cms is{inch_to_cms(n)}\")\n",
    "\n",
    "\n",
    "# Ex:7    \n",
    "def rem(l, word ):\n",
    "    n = []\n",
    "    for item in l:\n",
    "        if not(item == word):\n",
    "            n.append(item.strip(word))\n",
    "        return n    \n",
    "\n",
    "l = [\"Aryan\",\"Harry\",\"Rohan\",\"an\"]\n",
    "\n",
    "print(rem(l,\"an\"))\n",
    "\n",
    "\n",
    "# Ex:8\n",
    "n = int(input(\"Enter the number: \")) \n",
    "\n",
    "for i in range(1,11):\n",
    "    print(f\"{n} X {11-i} = {n*(11-i)}\")\n"
   ]
  },
  {
   "cell_type": "code",
   "execution_count": null,
   "id": "ebcf5b28-274e-4712-a27b-8441ff042f53",
   "metadata": {},
   "outputs": [],
   "source": [
    "# Practice set :11\n",
    "Ex:1. Create a class (2-D vector) and use it to create another class representing a 3-D \n",
    "      vector. \n",
    "\n",
    "Ex:2. Create a class ‘Pets’ from a class ‘Animals’ and further create a class ‘Dog’ from \n",
    "     ‘Pets’. Add a method ‘bark’ to class ‘Dog’. \n",
    "\n",
    "Ex:3. Create a class ‘Employee’ and add salary and increment properties to it. \n",
    "      Write a method ‘salaryAfterIncrement’ method with a @property decorator with a setter \n",
    "      which changes the value of increment based on the salary. \n",
    "\n",
    "Ex:4. Write a class ‘Complex’ to represent complex numbers, along with overloaded \n",
    "      operators ‘+’ and ‘*’ which adds and multiplies them. \n",
    "\n",
    "Ex:5. Write a class vector representing a vector of n dimensions. Overload the + and * \n",
    "      operator which calculates the sum and the dot(.) product of them. \n",
    "\n",
    "Ex:6. Write __str__() method to print the vector as follows: \n",
    "      7i + 8j +10k  \n",
    "      Assume vector of dimension 3 for this problem. \n",
    "                            \n",
    "Ex:7. Override the __len__() method on vector of problem 5 to display the dimension of the \n",
    "      vector. \n",
    "\n",
    "Answer:\n",
    "# Ex:1\n",
    "class TwoDvector:\n",
    "    def __init__(self,i,j):\n",
    "        self.i = i\n",
    "        self.j = j \n",
    "\n",
    "    def show(self):\n",
    "        print(f\"The Two Dimension vector is {self.i}i + {self.j}j\")\n",
    "\n",
    "class ThreeDvector(TwoDvector):\n",
    "    def __init__(self, i , j ,k):\n",
    "        super().__init__(i,j)   \n",
    "\n",
    "        self.k = k   \n",
    "\n",
    "    def show(self):\n",
    "        print(f\"The Three Dimension vector is {self.i}i + {self.j}j + {self.k}k\")            \n",
    "\n",
    "a = TwoDvector(3,5)\n",
    "a.show()\n",
    "\n",
    "b = ThreeDvector(3,5,7)\n",
    "b.show() \n",
    "\n",
    "\n",
    "# Ex:2\n",
    "class Animals:\n",
    "    pass\n",
    "\n",
    "class pets(Animals):\n",
    "    pass\n",
    "\n",
    "class Dog(pets):\n",
    "    @staticmethod\n",
    "\n",
    "    def bark():\n",
    "        print(\"Bow Bow !\")\n",
    "    \n",
    "\n",
    "d = Dog()\n",
    "d.bark()\n",
    "\n",
    "\n",
    "# Ex:3\n",
    "class Employee:\n",
    "    salary = 2000\n",
    "    increment = 20\n",
    "\n",
    "    @property\n",
    "    def salaryAfterIncrement(self):\n",
    "        return(self.salary + self.salary *(self.increment/100))\n",
    "    \n",
    "    @salaryAfterIncrement.setter\n",
    "    def salaryAfterIncement(self,salary):\n",
    "        self.increment = ((salary/self.salary) - 1)*100\n",
    "\n",
    "\n",
    "e = Employee()\n",
    "print(e.salaryAfterIncement)     \n",
    "e.salaryAfterIncement = 2000.8  \n",
    "print(e.increment) \n",
    "\n",
    "\n",
    "#Ex:4\n",
    "class complex:\n",
    "    def __init__(self,real,imag):\n",
    "        self.real = real\n",
    "        self.imag = imag\n",
    "\n",
    "    def __add__(self,other):\n",
    "        return complex(self.real + other.real , self.imag + other.imag)  \n",
    "    \n",
    "    def __mul__(self,other):\n",
    "        real_part = (self.real*other.real) - (self.imag*other.imag)\n",
    "\n",
    "        imag_part = (self.real*other.imag ) + (self.imag*other.real)\n",
    "        return complex(real_part,imag_part)\n",
    "    \n",
    "    def __str__(self):\n",
    "        return f\"{self.real} + {self.imag}i\"\n",
    "    \n",
    "z1 = complex(2 , 3)     \n",
    "z2 = complex(4 , 5)\n",
    "\n",
    "sum_result = z1 + z2\n",
    "mul_result = z1 * z2\n",
    "print(\"Addition:\",sum_result)\n",
    "print(\"Multiplication:\",mul_result)\n",
    "\n",
    "\n",
    "#Ex:5\n",
    "class vector:\n",
    "    def __init__(self, x , y , z):\n",
    "        self.x = x\n",
    "        self.y = y\n",
    "        self.z = z\n",
    "\n",
    "    def __add__(self,other):\n",
    "        result = vector(self.x + other.x , self.y + other.y , self.z + other.z)   \n",
    "        return result\n",
    "\n",
    "    def __mul__(self,other):\n",
    "        result = self.x * other.x + self.y * other.y + self.z * other.z\n",
    "        return result\n",
    "    \n",
    "    def __str__(self):\n",
    "        return f\"vector ({self.x} , {self.y} , {self.z})\"\n",
    "     \n",
    "v1 = vector(1 , 2 , 3)     \n",
    "v2 = vector(9 , 8 , 7)\n",
    "v3 = vector(5 , 6, 7)\n",
    "\n",
    "print(v1 + v2) \n",
    "print(v1 * v2)\n",
    "\n",
    "print(v1 + v3)\n",
    "print(v1 * v3)\n",
    "\n",
    "        \n",
    "\n",
    "# Ex:6\n",
    "class vector:\n",
    "    def __init__(self, x , y , z):\n",
    "        self.x = x\n",
    "        self.y = y\n",
    "        self.z = z\n",
    "\n",
    "    def __add__(self,other):\n",
    "        result = vector(self.x + other.x , self.y + other.y , self.z + other.z)   \n",
    "        return result\n",
    "\n",
    "    def __mul__(self,other):\n",
    "        result = self.x * other.x + self.y * other.y + self.z * other.z\n",
    "        return result\n",
    "    \n",
    "    def __str__(self):\n",
    "        return f\"{self.x}i + {self.y}j + {self.z}k\"\n",
    "     \n",
    "v1 = vector(1 , 2 , 3)     \n",
    "v2 = vector(9 , 8 , 7)\n",
    "v3 = vector(5 , 6, 7)\n",
    "\n",
    "print(v1 + v2) \n",
    "print(v1 * v2)\n",
    "\n",
    "print(v1 + v3)\n",
    "print(v1 * v3)\n",
    "     \n",
    "\n",
    "\n",
    "# Ex:7\n",
    "class vector:\n",
    "    def __init__(self,l):\n",
    "        self.l = l\n",
    "\n",
    "    def __len__(self):\n",
    "        return len(self.l) \n",
    "\n",
    "v1 = vector((1,2,3))            \n",
    "print(len(v1))"
   ]
  },
  {
   "cell_type": "code",
   "execution_count": null,
   "id": "892254ef-1c20-491e-851d-09a922a572e0",
   "metadata": {},
   "outputs": [],
   "source": [
    "# Practice set:12\n",
    "\n",
    "Ex:1. Write a program to open three files 1.txt, 2.txt and 3.txt if any these files are not \n",
    "      present, a message without exiting the program must be printed prompting the same.\n",
    "\n",
    "Ex:2. Write a program to print third, fifth and seventh element from a list using enumerate \n",
    "      function. \n",
    "\n",
    "Ex:3. Write a list comprehension to print a list which contains the multiplication table of a \n",
    "      user entered number. \n",
    "    \n",
    "Ex:4. Write a program to display a/b where a and b are integers. If b=0, display infinite by \n",
    "      handling the ‘ZeroDivisionError’. \n",
    "\n",
    "Ex:5. Store the multiplication tables generated in problem 3 in a file named Tables.txt. \n",
    "\n",
    "Answer:\n",
    "\n",
    "# Ex:1\n",
    "\n",
    "try:\n",
    "   with open(\"1.file\",\"r\") as f:\n",
    "     print(f.read())\n",
    "except Exception as x:\n",
    "    print(x)\n",
    "\n",
    "\n",
    "try:\n",
    "   with open(\"2.file\",\"r\") as f:\n",
    "     print(f.read())\n",
    "except Exception as x:\n",
    "    print(x)\n",
    "\n",
    "\n",
    "try:\n",
    "   with open(\"3.file\",\"r\") as f:\n",
    "     print(f.read())\n",
    "except Exception as x:\n",
    "    print(x)\n",
    "\n",
    "print(\"Thank you\")\n",
    "        \n",
    "\n",
    "# Ex:2\n",
    "l  = [1,2,3,4,5,6,7,8,9]      \n",
    "for i,item in enumerate(l):\n",
    "    if i==2 or i==4 or i==6:\n",
    "        print(item)\n",
    " \n",
    "\n",
    "# Ex:3\n",
    "n = int(input(\"Enter the number:\"))\n",
    "table = [n*i for i in range(1,11)]\n",
    "print(table)\n",
    "\n",
    "\n",
    "# Ex:4\n",
    "a = int(input(\"Enter the firest number:\"))\n",
    "b = int(input(\"Enter the second number:\"))\n",
    "\n",
    "if(b==0):\n",
    "    raise ZeroDivisionError(\"The answer in infinite\")\n",
    "\n",
    "print(f\"The division is a/b is:{a/b}\")\n",
    "\n",
    "\n",
    "\n",
    "# Ex:5\n",
    "n = int(input(\"Enter the number:\"))\n",
    "\n",
    "table = [n*i for i in range(1,11)]\n",
    "\n",
    "with open(\"Tables.txt\",\"a\") as f:\n",
    "    f.write(f\"Table of {n} is:{str(table)}\\n\")\n",
    "\n",
    "\n",
    "\n"
   ]
  }
 ],
 "metadata": {
  "kernelspec": {
   "display_name": "Python 3 (ipykernel)",
   "language": "python",
   "name": "python3"
  },
  "language_info": {
   "codemirror_mode": {
    "name": "ipython",
    "version": 3
   },
   "file_extension": ".py",
   "mimetype": "text/x-python",
   "name": "python",
   "nbconvert_exporter": "python",
   "pygments_lexer": "ipython3",
   "version": "3.12.1"
  }
 },
 "nbformat": 4,
 "nbformat_minor": 5
}
